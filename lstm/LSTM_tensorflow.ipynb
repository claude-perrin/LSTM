{
 "cells": [
  {
   "cell_type": "code",
   "execution_count": 28,
   "id": "41452a53",
   "metadata": {},
   "outputs": [],
   "source": [
    "import numpy as np\n",
    "import pandas as pd\n",
    "import json\n",
    "import tensorflow as tf\n",
    "from tensorflow.keras.models import Sequential\n",
    "from tensorflow.keras.layers import Dense, Embedding, LSTM, Dropout\n",
    "from sklearn.model_selection import train_test_split\n",
    "from tensorflow.keras.utils import to_categorical\n",
    "from tensorflow.keras.losses import BinaryCrossentropy\n",
    "from tensorflow.keras.preprocessing.text import Tokenizer\n",
    "from utils import filter_data\n",
    "from tensorflow.keras.utils import pad_sequences\n",
    "\n",
    "\n",
    "\n",
    "tokenizer = Tokenizer(num_words = 2500, split=' ')\n",
    "\n",
    "X, Y = get_dataset()\n",
    "padding_length = len(X[0])\n"
   ]
  },
  {
   "cell_type": "code",
   "execution_count": 34,
   "id": "2e9a5fc1",
   "metadata": {},
   "outputs": [],
   "source": [
    "num_words = 2500\n",
    "embed_dim = 12\n",
    "lstm_out = 300\n",
    "batch_size = 32\n",
    "\n",
    "def build_model(X):\n",
    "    model = Sequential()\n",
    "    model.add(Embedding(num_words, embed_dim,input_length = X.shape[1]))\n",
    "    model.add(LSTM(lstm_out))\n",
    "    model.add(Dropout(0.2))\n",
    "    model.add(Dense(2,activation='softmax'))\n",
    "    model.compile(loss = 'categorical_crossentropy', optimizer='adam',metrics = ['accuracy'])\n",
    "\n",
    "    return model\n",
    "\n",
    "def train(model):\n",
    "\n",
    "    X_train, X_valid, Y_train, Y_valid = train_test_split(X,Y, test_size = 0.20, random_state = 36)\n",
    "\n",
    "    #Here we train the Network.\n",
    "    model.fit(X_train, Y_train, batch_size=batch_size, epochs=10,  verbose=5)\n",
    "\n",
    "    # Measuring score and accuracy on validation set\n",
    "    score,acc = model.evaluate(X_valid, Y_valid, verbose=2, batch_size=batch_size)\n",
    "    print(\"Logloss score: %.2f\" % (score))\n",
    "    print(\"Validation set Accuracy: %.2f\" % (acc))\n",
    "\n",
    "model = build_model(X)\n"
   ]
  },
  {
   "cell_type": "code",
   "execution_count": 35,
   "id": "7e21df69",
   "metadata": {},
   "outputs": [
    {
     "name": "stdout",
     "output_type": "stream",
     "text": [
      "Epoch 1/10\n",
      "Epoch 2/10\n",
      "Epoch 3/10\n",
      "Epoch 4/10\n",
      "Epoch 5/10\n",
      "Epoch 6/10\n",
      "Epoch 7/10\n",
      "Epoch 8/10\n",
      "Epoch 9/10\n",
      "Epoch 10/10\n",
      "4/4 - 2s - loss: 0.6589 - accuracy: 0.7100 - 2s/epoch - 496ms/step\n",
      "Logloss score: 0.66\n",
      "Validation set Accuracy: 0.71\n"
     ]
    }
   ],
   "source": [
    "train(model)"
   ]
  },
  {
   "cell_type": "code",
   "execution_count": 36,
   "id": "67b6be2b",
   "metadata": {},
   "outputs": [
    {
     "name": "stdout",
     "output_type": "stream",
     "text": [
      "1/1 [==============================] - 1s 1s/step\n",
      "[1 1 0]\n"
     ]
    }
   ],
   "source": [
    "sequences = [\"it was awesome and I know why people enjoy it I was also\", \n",
    "             \"Yes, and Yes again and even more really nice than I expected keep doing more like this\",\n",
    "            \"What the hell was this, it was terrible and I would never recommend it!!!\"]\n",
    "test = tokenizer.texts_to_sequences(sequences)\n",
    "test = pad_sequences(sequences=test, maxlen=padding_length)\n",
    "y_prob = model.predict(test) \n",
    "y_classes = y_prob.argmax(axis=-1)\n",
    "print(y_classes)\n"
   ]
  },
  {
   "cell_type": "code",
   "execution_count": null,
   "id": "257e891d",
   "metadata": {},
   "outputs": [],
   "source": []
  }
 ],
 "metadata": {
  "kernelspec": {
   "display_name": "Python 3 (ipykernel)",
   "language": "python",
   "name": "python3"
  },
  "language_info": {
   "codemirror_mode": {
    "name": "ipython",
    "version": 3
   },
   "file_extension": ".py",
   "mimetype": "text/x-python",
   "name": "python",
   "nbconvert_exporter": "python",
   "pygments_lexer": "ipython3",
   "version": "3.10.10"
  }
 },
 "nbformat": 4,
 "nbformat_minor": 5
}
